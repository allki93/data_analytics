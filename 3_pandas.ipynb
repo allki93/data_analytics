{
 "cells": [
  {
   "cell_type": "code",
   "execution_count": 1,
   "metadata": {},
   "outputs": [
    {
     "name": "stdout",
     "output_type": "stream",
     "text": [
      "Collecting pandasNote: you may need to restart the kernel to use updated packages.\n",
      "\n",
      "  Downloading pandas-2.0.2-cp311-cp311-win_amd64.whl (10.6 MB)\n",
      "                                              0.0/10.6 MB ? eta -:--:--\n",
      "                                              0.0/10.6 MB 1.4 MB/s eta 0:00:08\n",
      "                                              0.0/10.6 MB 1.4 MB/s eta 0:00:08\n",
      "                                             0.1/10.6 MB 655.4 kB/s eta 0:00:17\n",
      "                                             0.1/10.6 MB 731.4 kB/s eta 0:00:15\n",
      "                                             0.2/10.6 MB 831.5 kB/s eta 0:00:13\n",
      "                                             0.2/10.6 MB 962.7 kB/s eta 0:00:11\n",
      "     -                                        0.4/10.6 MB 1.2 MB/s eta 0:00:09\n",
      "     -                                        0.5/10.6 MB 1.5 MB/s eta 0:00:07\n",
      "     --                                       0.7/10.6 MB 1.7 MB/s eta 0:00:06\n",
      "     ---                                      1.0/10.6 MB 2.3 MB/s eta 0:00:05\n",
      "     ----                                     1.2/10.6 MB 2.3 MB/s eta 0:00:05\n",
      "     -----                                    1.4/10.6 MB 2.6 MB/s eta 0:00:04\n",
      "     -----                                    1.4/10.6 MB 2.6 MB/s eta 0:00:04\n",
      "     -----                                    1.4/10.6 MB 2.6 MB/s eta 0:00:04\n",
      "     -----                                    1.5/10.6 MB 2.2 MB/s eta 0:00:05\n",
      "     ---------                                2.4/10.6 MB 3.4 MB/s eta 0:00:03\n",
      "     ---------                                2.5/10.6 MB 3.1 MB/s eta 0:00:03\n",
      "     ---------                                2.6/10.6 MB 3.1 MB/s eta 0:00:03\n",
      "     ---------                                2.6/10.6 MB 3.1 MB/s eta 0:00:03\n",
      "     ---------                                2.6/10.6 MB 3.1 MB/s eta 0:00:03\n",
      "     ----------                               2.7/10.6 MB 2.8 MB/s eta 0:00:03\n",
      "     -------------                            3.6/10.6 MB 3.6 MB/s eta 0:00:02\n",
      "     --------------                           3.7/10.6 MB 3.5 MB/s eta 0:00:02\n",
      "     ---------------                          4.0/10.6 MB 3.7 MB/s eta 0:00:02\n",
      "     ---------------                          4.0/10.6 MB 3.7 MB/s eta 0:00:02\n",
      "     ---------------                          4.1/10.6 MB 3.4 MB/s eta 0:00:02\n",
      "     -----------------                        4.7/10.6 MB 3.8 MB/s eta 0:00:02\n",
      "     ------------------                       5.0/10.6 MB 3.9 MB/s eta 0:00:02\n",
      "     -------------------                      5.2/10.6 MB 3.9 MB/s eta 0:00:02\n",
      "     --------------------                     5.3/10.6 MB 3.9 MB/s eta 0:00:02\n",
      "     ---------------------                    5.6/10.6 MB 3.9 MB/s eta 0:00:02\n",
      "     ---------------------                    5.7/10.6 MB 4.0 MB/s eta 0:00:02\n",
      "     ---------------------                    5.8/10.6 MB 3.9 MB/s eta 0:00:02\n",
      "     ---------------------                    5.8/10.6 MB 3.9 MB/s eta 0:00:02\n",
      "     -----------------------                  6.2/10.6 MB 3.9 MB/s eta 0:00:02\n",
      "     ------------------------                 6.5/10.6 MB 3.9 MB/s eta 0:00:02\n",
      "     ------------------------                 6.5/10.6 MB 3.8 MB/s eta 0:00:02\n",
      "     -------------------------                6.7/10.6 MB 3.9 MB/s eta 0:00:02\n",
      "     -------------------------                6.8/10.6 MB 3.9 MB/s eta 0:00:01\n",
      "     --------------------------               7.0/10.6 MB 3.8 MB/s eta 0:00:01\n",
      "     ---------------------------              7.2/10.6 MB 3.8 MB/s eta 0:00:01\n",
      "     ---------------------------              7.2/10.6 MB 3.8 MB/s eta 0:00:01\n",
      "     ----------------------------             7.4/10.6 MB 3.8 MB/s eta 0:00:01\n",
      "     ----------------------------             7.6/10.6 MB 3.7 MB/s eta 0:00:01\n",
      "     ----------------------------             7.6/10.6 MB 3.7 MB/s eta 0:00:01\n",
      "     -----------------------------            7.8/10.6 MB 3.6 MB/s eta 0:00:01\n",
      "     -----------------------------            7.9/10.6 MB 3.7 MB/s eta 0:00:01\n",
      "     ------------------------------           8.1/10.6 MB 3.7 MB/s eta 0:00:01\n",
      "     -------------------------------          8.3/10.6 MB 3.7 MB/s eta 0:00:01\n",
      "     -------------------------------          8.3/10.6 MB 3.6 MB/s eta 0:00:01\n",
      "     --------------------------------         8.6/10.6 MB 3.6 MB/s eta 0:00:01\n",
      "     --------------------------------         8.7/10.6 MB 3.6 MB/s eta 0:00:01\n",
      "     ---------------------------------        8.8/10.6 MB 3.6 MB/s eta 0:00:01\n",
      "     ---------------------------------        9.0/10.6 MB 3.6 MB/s eta 0:00:01\n",
      "     ----------------------------------       9.2/10.6 MB 3.6 MB/s eta 0:00:01\n",
      "     -----------------------------------      9.3/10.6 MB 3.6 MB/s eta 0:00:01\n",
      "     -----------------------------------      9.5/10.6 MB 3.6 MB/s eta 0:00:01\n",
      "     ------------------------------------     9.7/10.6 MB 3.6 MB/s eta 0:00:01\n",
      "     ------------------------------------     9.8/10.6 MB 3.6 MB/s eta 0:00:01\n",
      "     -------------------------------------    9.9/10.6 MB 3.6 MB/s eta 0:00:01\n",
      "     -------------------------------------    9.9/10.6 MB 3.6 MB/s eta 0:00:01\n",
      "     -------------------------------------    9.9/10.6 MB 3.6 MB/s eta 0:00:01\n",
      "     --------------------------------------   10.1/10.6 MB 3.5 MB/s eta 0:00:01\n",
      "     --------------------------------------   10.3/10.6 MB 3.5 MB/s eta 0:00:01\n",
      "     ---------------------------------------  10.4/10.6 MB 3.7 MB/s eta 0:00:01\n",
      "     ---------------------------------------  10.5/10.6 MB 3.7 MB/s eta 0:00:01\n",
      "     ---------------------------------------  10.6/10.6 MB 3.7 MB/s eta 0:00:01\n",
      "     ---------------------------------------- 10.6/10.6 MB 3.6 MB/s eta 0:00:00\n",
      "Requirement already satisfied: python-dateutil>=2.8.2 in c:\\users\\alkyc\\appdata\\local\\programs\\python\\python311\\lib\\site-packages (from pandas) (2.8.2)\n",
      "Collecting pytz>=2020.1 (from pandas)\n",
      "  Downloading pytz-2023.3-py2.py3-none-any.whl (502 kB)\n",
      "                                              0.0/502.3 kB ? eta -:--:--\n",
      "     ----------                             143.4/502.3 kB 2.8 MB/s eta 0:00:01\n",
      "     --------------------                   276.5/502.3 kB 3.4 MB/s eta 0:00:01\n",
      "     -----------------------------          389.1/502.3 kB 3.0 MB/s eta 0:00:01\n",
      "     -------------------------------------- 502.3/502.3 kB 2.9 MB/s eta 0:00:00\n",
      "Collecting tzdata>=2022.1 (from pandas)\n",
      "  Downloading tzdata-2023.3-py2.py3-none-any.whl (341 kB)\n",
      "                                              0.0/341.8 kB ? eta -:--:--\n",
      "     --------                                 71.7/341.8 kB ? eta -:--:--\n",
      "     --------                                 71.7/341.8 kB ? eta -:--:--\n",
      "     -------------------------------------  337.9/341.8 kB 2.6 MB/s eta 0:00:01\n",
      "     -------------------------------------- 341.8/341.8 kB 2.4 MB/s eta 0:00:00\n",
      "Requirement already satisfied: numpy>=1.21.0 in c:\\users\\alkyc\\appdata\\local\\programs\\python\\python311\\lib\\site-packages (from pandas) (1.24.3)\n",
      "Requirement already satisfied: six>=1.5 in c:\\users\\alkyc\\appdata\\local\\programs\\python\\python311\\lib\\site-packages (from python-dateutil>=2.8.2->pandas) (1.16.0)\n",
      "Installing collected packages: pytz, tzdata, pandas\n",
      "Successfully installed pandas-2.0.2 pytz-2023.3 tzdata-2023.3\n"
     ]
    }
   ],
   "source": [
    "%pip install pandas"
   ]
  },
  {
   "attachments": {},
   "cell_type": "markdown",
   "metadata": {},
   "source": [
    "## Pandas - библиотека для работы с данными"
   ]
  },
  {
   "cell_type": "code",
   "execution_count": 2,
   "metadata": {},
   "outputs": [],
   "source": [
    "import pandas as pd"
   ]
  },
  {
   "attachments": {},
   "cell_type": "markdown",
   "metadata": {},
   "source": [
    "- Объект класса Series"
   ]
  },
  {
   "cell_type": "code",
   "execution_count": 3,
   "metadata": {},
   "outputs": [
    {
     "data": {
      "text/plain": [
       "0    10\n",
       "1    20\n",
       "2    30\n",
       "3    40\n",
       "dtype: int64"
      ]
     },
     "execution_count": 3,
     "metadata": {},
     "output_type": "execute_result"
    }
   ],
   "source": [
    "# Series - 1-мерный массив данных\n",
    "# создание на базе списка\n",
    "l1 = [10, 20, 30, 40]\n",
    "s1 = pd.Series(l1)\n",
    "s1"
   ]
  },
  {
   "cell_type": "code",
   "execution_count": 4,
   "metadata": {},
   "outputs": [
    {
     "data": {
      "text/plain": [
       "a    100\n",
       "5     20\n",
       "0    500\n",
       "dtype: int64"
      ]
     },
     "execution_count": 4,
     "metadata": {},
     "output_type": "execute_result"
    }
   ],
   "source": [
    "# создание на базе словаря\n",
    "d1 = {'a':100, 5:20, 0:500}\n",
    "s2 = pd.Series(d1)\n",
    "s2"
   ]
  },
  {
   "cell_type": "code",
   "execution_count": 5,
   "metadata": {},
   "outputs": [
    {
     "data": {
      "text/plain": [
       "10"
      ]
     },
     "execution_count": 5,
     "metadata": {},
     "output_type": "execute_result"
    }
   ],
   "source": [
    "# явные индексы\n",
    "s1[0]"
   ]
  },
  {
   "cell_type": "code",
   "execution_count": 6,
   "metadata": {},
   "outputs": [
    {
     "data": {
      "text/plain": [
       "500"
      ]
     },
     "execution_count": 6,
     "metadata": {},
     "output_type": "execute_result"
    }
   ],
   "source": [
    "s2[0]"
   ]
  },
  {
   "cell_type": "code",
   "execution_count": 7,
   "metadata": {},
   "outputs": [
    {
     "data": {
      "text/plain": [
       "100"
      ]
     },
     "execution_count": 7,
     "metadata": {},
     "output_type": "execute_result"
    }
   ],
   "source": [
    "s2['a']"
   ]
  },
  {
   "cell_type": "code",
   "execution_count": 8,
   "metadata": {},
   "outputs": [
    {
     "data": {
      "text/plain": [
       "10"
      ]
     },
     "execution_count": 8,
     "metadata": {},
     "output_type": "execute_result"
    }
   ],
   "source": [
    "# неявные индексы\n",
    "# атрибут-индексатор дл НЕявных индексов\n",
    "s1.iloc[0]"
   ]
  },
  {
   "cell_type": "code",
   "execution_count": 9,
   "metadata": {},
   "outputs": [
    {
     "data": {
      "text/plain": [
       "40"
      ]
     },
     "execution_count": 9,
     "metadata": {},
     "output_type": "execute_result"
    }
   ],
   "source": [
    "s1.iloc[-1]"
   ]
  },
  {
   "cell_type": "code",
   "execution_count": 10,
   "metadata": {},
   "outputs": [
    {
     "data": {
      "text/plain": [
       "100"
      ]
     },
     "execution_count": 10,
     "metadata": {},
     "output_type": "execute_result"
    }
   ],
   "source": [
    "s2.iloc[0]"
   ]
  },
  {
   "cell_type": "code",
   "execution_count": 11,
   "metadata": {},
   "outputs": [
    {
     "data": {
      "text/plain": [
       "500"
      ]
     },
     "execution_count": 11,
     "metadata": {},
     "output_type": "execute_result"
    }
   ],
   "source": [
    "s2.iloc[-1]"
   ]
  },
  {
   "cell_type": "code",
   "execution_count": 12,
   "metadata": {},
   "outputs": [
    {
     "data": {
      "text/plain": [
       "(3,)"
      ]
     },
     "execution_count": 12,
     "metadata": {},
     "output_type": "execute_result"
    }
   ],
   "source": [
    "s2.shape"
   ]
  },
  {
   "cell_type": "code",
   "execution_count": 13,
   "metadata": {},
   "outputs": [
    {
     "data": {
      "text/plain": [
       "3"
      ]
     },
     "execution_count": 13,
     "metadata": {},
     "output_type": "execute_result"
    }
   ],
   "source": [
    "s2.size"
   ]
  },
  {
   "cell_type": "code",
   "execution_count": 14,
   "metadata": {},
   "outputs": [
    {
     "data": {
      "text/plain": [
       "Index(['a', 5, 0], dtype='object')"
      ]
     },
     "execution_count": 14,
     "metadata": {},
     "output_type": "execute_result"
    }
   ],
   "source": [
    "s2.index"
   ]
  },
  {
   "cell_type": "code",
   "execution_count": 15,
   "metadata": {},
   "outputs": [
    {
     "data": {
      "text/plain": [
       "array([100,  20, 500], dtype=int64)"
      ]
     },
     "execution_count": 15,
     "metadata": {},
     "output_type": "execute_result"
    }
   ],
   "source": [
    "s2.values"
   ]
  },
  {
   "cell_type": "code",
   "execution_count": 16,
   "metadata": {},
   "outputs": [
    {
     "data": {
      "text/plain": [
       "Yakutsk      318768\n",
       "Neryungri     57009\n",
       "Viliuysk      11095\n",
       "dtype: int64"
      ]
     },
     "execution_count": 16,
     "metadata": {},
     "output_type": "execute_result"
    }
   ],
   "source": [
    "# Данные по населению городов Якутии\n",
    "pop_d = {\n",
    "    \"Yakutsk\": 318768,\n",
    "    \"Neryungri\": 57009,\n",
    "    \"Viliuysk\": 11095\n",
    "}\n",
    "\n",
    "pop_s = pd.Series(pop_d)\n",
    "pop_s"
   ]
  },
  {
   "cell_type": "code",
   "execution_count": null,
   "metadata": {},
   "outputs": [],
   "source": [
    "# 1. вывести значение населения выбранного города\n",
    "# 2. срез данных от Нерюнгри до Вилюйска"
   ]
  },
  {
   "cell_type": "code",
   "execution_count": 17,
   "metadata": {},
   "outputs": [
    {
     "data": {
      "text/plain": [
       "318768"
      ]
     },
     "execution_count": 17,
     "metadata": {},
     "output_type": "execute_result"
    }
   ],
   "source": [
    "# 1.\n",
    "pop_s[\"Yakutsk\"]"
   ]
  },
  {
   "cell_type": "code",
   "execution_count": 18,
   "metadata": {},
   "outputs": [
    {
     "data": {
      "text/plain": [
       "57009"
      ]
     },
     "execution_count": 18,
     "metadata": {},
     "output_type": "execute_result"
    }
   ],
   "source": [
    "pop_s[\"Neryungri\"]"
   ]
  },
  {
   "cell_type": "code",
   "execution_count": 19,
   "metadata": {},
   "outputs": [
    {
     "data": {
      "text/plain": [
       "11095"
      ]
     },
     "execution_count": 19,
     "metadata": {},
     "output_type": "execute_result"
    }
   ],
   "source": [
    "pop_s[\"Viliuysk\"]"
   ]
  },
  {
   "cell_type": "code",
   "execution_count": 24,
   "metadata": {},
   "outputs": [
    {
     "data": {
      "text/plain": [
       "Neryungri    57009\n",
       "Viliuysk     11095\n",
       "dtype: int64"
      ]
     },
     "execution_count": 24,
     "metadata": {},
     "output_type": "execute_result"
    }
   ],
   "source": [
    "# 2.\n",
    "# явные индексы\n",
    "pop_s[\"Neryungri\":\"Viliuysk\"]"
   ]
  },
  {
   "cell_type": "code",
   "execution_count": 29,
   "metadata": {},
   "outputs": [
    {
     "data": {
      "text/plain": [
       "Neryungri    57009\n",
       "Viliuysk     11095\n",
       "dtype: int64"
      ]
     },
     "execution_count": 29,
     "metadata": {},
     "output_type": "execute_result"
    }
   ],
   "source": [
    "# неявные индексы\n",
    "pop_s.iloc[1:3]"
   ]
  },
  {
   "cell_type": "code",
   "execution_count": 30,
   "metadata": {},
   "outputs": [
    {
     "data": {
      "text/html": [
       "<div>\n",
       "<style scoped>\n",
       "    .dataframe tbody tr th:only-of-type {\n",
       "        vertical-align: middle;\n",
       "    }\n",
       "\n",
       "    .dataframe tbody tr th {\n",
       "        vertical-align: top;\n",
       "    }\n",
       "\n",
       "    .dataframe thead th {\n",
       "        text-align: right;\n",
       "    }\n",
       "</style>\n",
       "<table border=\"1\" class=\"dataframe\">\n",
       "  <thead>\n",
       "    <tr style=\"text-align: right;\">\n",
       "      <th></th>\n",
       "      <th>col_1</th>\n",
       "      <th>col_2</th>\n",
       "    </tr>\n",
       "  </thead>\n",
       "  <tbody>\n",
       "    <tr>\n",
       "      <th>row 1</th>\n",
       "      <td>100.0</td>\n",
       "      <td>NaN</td>\n",
       "    </tr>\n",
       "    <tr>\n",
       "      <th>row 2</th>\n",
       "      <td>200.0</td>\n",
       "      <td>300.0</td>\n",
       "    </tr>\n",
       "    <tr>\n",
       "      <th>row 3</th>\n",
       "      <td>NaN</td>\n",
       "      <td>400.0</td>\n",
       "    </tr>\n",
       "  </tbody>\n",
       "</table>\n",
       "</div>"
      ],
      "text/plain": [
       "       col_1  col_2\n",
       "row 1  100.0    NaN\n",
       "row 2  200.0  300.0\n",
       "row 3    NaN  400.0"
      ]
     },
     "execution_count": 30,
     "metadata": {},
     "output_type": "execute_result"
    }
   ],
   "source": [
    "# DataFrame - 2 мерный массив данных\n",
    "d2 ={\n",
    "    \"col_1\": {\"row 1\": 100, \"row 2\": 200},\n",
    "    \"col_2\": {\"row 2\": 300, \"row 3\": 400}\n",
    "}\n",
    "df1 = pd.DataFrame(d2)\n",
    "df1"
   ]
  },
  {
   "cell_type": "code",
   "execution_count": 34,
   "metadata": {},
   "outputs": [
    {
     "data": {
      "text/html": [
       "<div>\n",
       "<style scoped>\n",
       "    .dataframe tbody tr th:only-of-type {\n",
       "        vertical-align: middle;\n",
       "    }\n",
       "\n",
       "    .dataframe tbody tr th {\n",
       "        vertical-align: top;\n",
       "    }\n",
       "\n",
       "    .dataframe thead th {\n",
       "        text-align: right;\n",
       "    }\n",
       "</style>\n",
       "<table border=\"1\" class=\"dataframe\">\n",
       "  <thead>\n",
       "    <tr style=\"text-align: right;\">\n",
       "      <th></th>\n",
       "      <th>order</th>\n",
       "      <th>name</th>\n",
       "      <th>height(cm)</th>\n",
       "    </tr>\n",
       "  </thead>\n",
       "  <tbody>\n",
       "    <tr>\n",
       "      <th>0</th>\n",
       "      <td>1</td>\n",
       "      <td>George Washington</td>\n",
       "      <td>189</td>\n",
       "    </tr>\n",
       "    <tr>\n",
       "      <th>1</th>\n",
       "      <td>2</td>\n",
       "      <td>John Adams</td>\n",
       "      <td>170</td>\n",
       "    </tr>\n",
       "    <tr>\n",
       "      <th>2</th>\n",
       "      <td>3</td>\n",
       "      <td>Thomas Jefferson</td>\n",
       "      <td>189</td>\n",
       "    </tr>\n",
       "    <tr>\n",
       "      <th>3</th>\n",
       "      <td>4</td>\n",
       "      <td>James Madison</td>\n",
       "      <td>163</td>\n",
       "    </tr>\n",
       "    <tr>\n",
       "      <th>4</th>\n",
       "      <td>5</td>\n",
       "      <td>James Monroe</td>\n",
       "      <td>183</td>\n",
       "    </tr>\n",
       "  </tbody>\n",
       "</table>\n",
       "</div>"
      ],
      "text/plain": [
       "   order               name  height(cm)\n",
       "0      1  George Washington         189\n",
       "1      2         John Adams         170\n",
       "2      3   Thomas Jefferson         189\n",
       "3      4      James Madison         163\n",
       "4      5       James Monroe         183"
      ]
     },
     "execution_count": 34,
     "metadata": {},
     "output_type": "execute_result"
    }
   ],
   "source": [
    "data = pd.read_csv(\"data/president_heights.csv\")\n",
    "data.head()"
   ]
  },
  {
   "cell_type": "code",
   "execution_count": 36,
   "metadata": {},
   "outputs": [
    {
     "data": {
      "text/plain": [
       "0         George Washington\n",
       "1                John Adams\n",
       "2          Thomas Jefferson\n",
       "3             James Madison\n",
       "4              James Monroe\n",
       "5         John Quincy Adams\n",
       "6            Andrew Jackson\n",
       "7          Martin Van Buren\n",
       "8    William Henry Harrison\n",
       "9                John Tyler\n",
       "Name: name, dtype: object"
      ]
     },
     "execution_count": 36,
     "metadata": {},
     "output_type": "execute_result"
    }
   ],
   "source": [
    "# данные из строки\n",
    "data[\"name\"].head(10)"
   ]
  },
  {
   "cell_type": "code",
   "execution_count": 37,
   "metadata": {},
   "outputs": [
    {
     "data": {
      "text/plain": [
       "'George Washington'"
      ]
     },
     "execution_count": 37,
     "metadata": {},
     "output_type": "execute_result"
    }
   ],
   "source": [
    "data.loc[0, \"name\"]"
   ]
  },
  {
   "cell_type": "code",
   "execution_count": 38,
   "metadata": {},
   "outputs": [
    {
     "data": {
      "text/plain": [
       "order                         1\n",
       "name          George Washington\n",
       "height(cm)                  189\n",
       "Name: 0, dtype: object"
      ]
     },
     "execution_count": 38,
     "metadata": {},
     "output_type": "execute_result"
    }
   ],
   "source": [
    "data.loc[0, :]"
   ]
  },
  {
   "cell_type": "code",
   "execution_count": 39,
   "metadata": {},
   "outputs": [
    {
     "data": {
      "text/html": [
       "<div>\n",
       "<style scoped>\n",
       "    .dataframe tbody tr th:only-of-type {\n",
       "        vertical-align: middle;\n",
       "    }\n",
       "\n",
       "    .dataframe tbody tr th {\n",
       "        vertical-align: top;\n",
       "    }\n",
       "\n",
       "    .dataframe thead th {\n",
       "        text-align: right;\n",
       "    }\n",
       "</style>\n",
       "<table border=\"1\" class=\"dataframe\">\n",
       "  <thead>\n",
       "    <tr style=\"text-align: right;\">\n",
       "      <th></th>\n",
       "      <th>order</th>\n",
       "      <th>name</th>\n",
       "      <th>height(cm)</th>\n",
       "    </tr>\n",
       "  </thead>\n",
       "  <tbody>\n",
       "    <tr>\n",
       "      <th>10</th>\n",
       "      <td>11</td>\n",
       "      <td>James K. Polk</td>\n",
       "      <td>173</td>\n",
       "    </tr>\n",
       "    <tr>\n",
       "      <th>11</th>\n",
       "      <td>12</td>\n",
       "      <td>Zachary Taylor</td>\n",
       "      <td>173</td>\n",
       "    </tr>\n",
       "    <tr>\n",
       "      <th>12</th>\n",
       "      <td>13</td>\n",
       "      <td>Millard Fillmore</td>\n",
       "      <td>175</td>\n",
       "    </tr>\n",
       "    <tr>\n",
       "      <th>13</th>\n",
       "      <td>14</td>\n",
       "      <td>Franklin Pierce</td>\n",
       "      <td>178</td>\n",
       "    </tr>\n",
       "    <tr>\n",
       "      <th>14</th>\n",
       "      <td>15</td>\n",
       "      <td>James Buchanan</td>\n",
       "      <td>183</td>\n",
       "    </tr>\n",
       "    <tr>\n",
       "      <th>15</th>\n",
       "      <td>16</td>\n",
       "      <td>Abraham Lincoln</td>\n",
       "      <td>193</td>\n",
       "    </tr>\n",
       "    <tr>\n",
       "      <th>16</th>\n",
       "      <td>17</td>\n",
       "      <td>Andrew Johnson</td>\n",
       "      <td>178</td>\n",
       "    </tr>\n",
       "    <tr>\n",
       "      <th>17</th>\n",
       "      <td>18</td>\n",
       "      <td>Ulysses S. Grant</td>\n",
       "      <td>173</td>\n",
       "    </tr>\n",
       "    <tr>\n",
       "      <th>18</th>\n",
       "      <td>19</td>\n",
       "      <td>Rutherford B. Hayes</td>\n",
       "      <td>174</td>\n",
       "    </tr>\n",
       "    <tr>\n",
       "      <th>19</th>\n",
       "      <td>20</td>\n",
       "      <td>James A. Garfield</td>\n",
       "      <td>183</td>\n",
       "    </tr>\n",
       "    <tr>\n",
       "      <th>20</th>\n",
       "      <td>21</td>\n",
       "      <td>Chester A. Arthur</td>\n",
       "      <td>183</td>\n",
       "    </tr>\n",
       "  </tbody>\n",
       "</table>\n",
       "</div>"
      ],
      "text/plain": [
       "    order                 name  height(cm)\n",
       "10     11        James K. Polk         173\n",
       "11     12       Zachary Taylor         173\n",
       "12     13     Millard Fillmore         175\n",
       "13     14      Franklin Pierce         178\n",
       "14     15       James Buchanan         183\n",
       "15     16      Abraham Lincoln         193\n",
       "16     17       Andrew Johnson         178\n",
       "17     18     Ulysses S. Grant         173\n",
       "18     19  Rutherford B. Hayes         174\n",
       "19     20    James A. Garfield         183\n",
       "20     21    Chester A. Arthur         183"
      ]
     },
     "execution_count": 39,
     "metadata": {},
     "output_type": "execute_result"
    }
   ],
   "source": [
    "data.loc[10:20, :]"
   ]
  },
  {
   "cell_type": "code",
   "execution_count": 40,
   "metadata": {},
   "outputs": [
    {
     "data": {
      "text/html": [
       "<div>\n",
       "<style scoped>\n",
       "    .dataframe tbody tr th:only-of-type {\n",
       "        vertical-align: middle;\n",
       "    }\n",
       "\n",
       "    .dataframe tbody tr th {\n",
       "        vertical-align: top;\n",
       "    }\n",
       "\n",
       "    .dataframe thead th {\n",
       "        text-align: right;\n",
       "    }\n",
       "</style>\n",
       "<table border=\"1\" class=\"dataframe\">\n",
       "  <thead>\n",
       "    <tr style=\"text-align: right;\">\n",
       "      <th></th>\n",
       "      <th>name</th>\n",
       "      <th>height(cm)</th>\n",
       "    </tr>\n",
       "  </thead>\n",
       "  <tbody>\n",
       "    <tr>\n",
       "      <th>10</th>\n",
       "      <td>James K. Polk</td>\n",
       "      <td>173</td>\n",
       "    </tr>\n",
       "    <tr>\n",
       "      <th>11</th>\n",
       "      <td>Zachary Taylor</td>\n",
       "      <td>173</td>\n",
       "    </tr>\n",
       "    <tr>\n",
       "      <th>12</th>\n",
       "      <td>Millard Fillmore</td>\n",
       "      <td>175</td>\n",
       "    </tr>\n",
       "    <tr>\n",
       "      <th>13</th>\n",
       "      <td>Franklin Pierce</td>\n",
       "      <td>178</td>\n",
       "    </tr>\n",
       "    <tr>\n",
       "      <th>14</th>\n",
       "      <td>James Buchanan</td>\n",
       "      <td>183</td>\n",
       "    </tr>\n",
       "    <tr>\n",
       "      <th>15</th>\n",
       "      <td>Abraham Lincoln</td>\n",
       "      <td>193</td>\n",
       "    </tr>\n",
       "    <tr>\n",
       "      <th>16</th>\n",
       "      <td>Andrew Johnson</td>\n",
       "      <td>178</td>\n",
       "    </tr>\n",
       "    <tr>\n",
       "      <th>17</th>\n",
       "      <td>Ulysses S. Grant</td>\n",
       "      <td>173</td>\n",
       "    </tr>\n",
       "    <tr>\n",
       "      <th>18</th>\n",
       "      <td>Rutherford B. Hayes</td>\n",
       "      <td>174</td>\n",
       "    </tr>\n",
       "    <tr>\n",
       "      <th>19</th>\n",
       "      <td>James A. Garfield</td>\n",
       "      <td>183</td>\n",
       "    </tr>\n",
       "    <tr>\n",
       "      <th>20</th>\n",
       "      <td>Chester A. Arthur</td>\n",
       "      <td>183</td>\n",
       "    </tr>\n",
       "  </tbody>\n",
       "</table>\n",
       "</div>"
      ],
      "text/plain": [
       "                   name  height(cm)\n",
       "10        James K. Polk         173\n",
       "11       Zachary Taylor         173\n",
       "12     Millard Fillmore         175\n",
       "13      Franklin Pierce         178\n",
       "14       James Buchanan         183\n",
       "15      Abraham Lincoln         193\n",
       "16       Andrew Johnson         178\n",
       "17     Ulysses S. Grant         173\n",
       "18  Rutherford B. Hayes         174\n",
       "19    James A. Garfield         183\n",
       "20    Chester A. Arthur         183"
      ]
     },
     "execution_count": 40,
     "metadata": {},
     "output_type": "execute_result"
    }
   ],
   "source": [
    "data.loc[10:20, \"name\":]"
   ]
  },
  {
   "cell_type": "code",
   "execution_count": null,
   "metadata": {},
   "outputs": [],
   "source": []
  }
 ],
 "metadata": {
  "kernelspec": {
   "display_name": "Python 3",
   "language": "python",
   "name": "python3"
  },
  "language_info": {
   "codemirror_mode": {
    "name": "ipython",
    "version": 3
   },
   "file_extension": ".py",
   "mimetype": "text/x-python",
   "name": "python",
   "nbconvert_exporter": "python",
   "pygments_lexer": "ipython3",
   "version": "3.11.3"
  },
  "orig_nbformat": 4
 },
 "nbformat": 4,
 "nbformat_minor": 2
}
